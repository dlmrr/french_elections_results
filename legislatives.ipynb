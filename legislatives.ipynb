{
 "cells": [
  {
   "cell_type": "code",
   "execution_count": null,
   "id": "f6681ad5-058b-422d-8ca4-b5f961aed2aa",
   "metadata": {},
   "outputs": [],
   "source": [
    "import pandas as pd\n",
    "from glob import glob\n",
    "import re\n",
    "import numpy as np\n",
    "import requests\n",
    "import json\n",
    "from bs4 import BeautifulSoup\n",
    "import xmltodict"
   ]
  },
  {
   "cell_type": "code",
   "execution_count": null,
   "id": "358a7eb2-af8c-42ca-adf5-8d005c866b05",
   "metadata": {
    "tags": []
   },
   "outputs": [],
   "source": [
    "r = requests.get(\"https://www.resultats-elections.interieur.gouv.fr/telechargements/LG2022/resultatsT1/\").content\n",
    "soup = BeautifulSoup(r)\n",
    "soup = BeautifulSoup(r)\n",
    "dep_path_list = [i[\"href\"] for i in soup.find_all(\"a\")[1:-1] ]\n",
    "dep_path_list"
   ]
  },
  {
   "cell_type": "code",
   "execution_count": null,
   "id": "a8ed7aa3-c815-4d5d-ae83-9fe5c819344a",
   "metadata": {},
   "outputs": [],
   "source": [
    "\n",
    "\n",
    "def get_data(com):\n",
    "    b = com[\"Tours\"][\"Tour\"][\"Resultats\"][\"Candidats\"][\"Candidat\"]\n",
    "    result = pd.json_normalize(b)\n",
    "\n",
    "\n",
    "    a = com[\"Tours\"][\"Tour\"][\"Mentions\"]\n",
    "    meta = pd.json_normalize(a)[[\"Inscrits.Nombre\",\"Abstentions.Nombre\",\"Votants.Nombre\",\"Blancs.Nombre\",\"Nuls.Nombre\"]]\n",
    "    meta.columns = [i.replace(\".Nombre\",\"\").lower() for i in meta.columns]\n",
    "    for col in meta.columns:\n",
    "        result[col] = meta[col][0]\n",
    "    result[\"code_commune\"] =  com[\"CodSubCom\"]\n",
    "    result[\"commune\"] =  com[\"LibSubCom\"]\n",
    "    result[\"code_circo\"] =  com[\"CodCirLg\"]\n",
    "    result = result.rename(columns={\"NbVoix\" : \"voix\",\"NomPsn\" : \"nom\", \"PrenomPsn\" : \"prenom\", \"CivilitePsn\" : \"civilite\", \"CodNua\" : \"code_nuance\", \"LibNua\" : \"nuance\"})\n",
    "    keep_cols = [\n",
    "                 \"code_circo\",\n",
    "                 \"code_commune\",\n",
    "                 \"commune\",\n",
    "                 'inscrits',\n",
    "                 \"votants\",\n",
    "                 \"blancs\",\n",
    "                 \"nuls\",\n",
    "                 \"nom\",\n",
    "                 \"prenom\",\n",
    "                 \"civilite\",\n",
    "                 \"code_nuance\",\n",
    "                 \"nuance\",\n",
    "                 \"voix\"\n",
    "                ]\n",
    "    result = result[keep_cols]\n",
    "    return result\n"
   ]
  },
  {
   "cell_type": "code",
   "execution_count": null,
   "id": "5a9545c5-9c4a-4eea-8604-4f7af2f4ed83",
   "metadata": {
    "tags": []
   },
   "outputs": [],
   "source": [
    "dep_df_list = []\n",
    "base_url = \"https://www.resultats-elections.interieur.gouv.fr/telechargements/LG2022/resultatsT1/\"\n",
    "for dep in dep_path_list:\n",
    "    print(dep)\n",
    "    dep_url = base_url+ dep\n",
    "    com_path = dep.replace(\"/\",\"\") + \"com.xml\"\n",
    "    url = dep_url + com_path\n",
    "\n",
    "    r = requests.get(url).content\n",
    "    j = xmltodict.parse(r)\n",
    "    j = json.dumps(j)\n",
    "    j = json.loads(j)\n",
    "\n",
    "    com_list = j[\"Election\"][\"Departement\"][\"Communes\"][\"Commune\"]\n",
    "\n",
    "    df_list = []\n",
    "    try:\n",
    "        for com in com_list:\n",
    "            df = get_data(com)\n",
    "            df_list.append(df)\n",
    "        df = pd.concat(df_list)\n",
    "    except:\n",
    "        df = get_data(com_list)\n",
    "    df.insert(0,\"dep\",dep.replace(\"/\",\"\"))\n",
    "    dep_df_list.append(df)\n",
    "\n",
    "df = pd.concat(dep_df_list)\n",
    "\n",
    "def shorten_dep(dep):\n",
    "    if dep[0] == \"0\":\n",
    "        dep = dep[1:]\n",
    "    return dep\n",
    "\n",
    "df[\"dep\"] = df[\"dep\"].apply(shorten_dep)\n",
    "df.to_csv(\"results.csv\",index=False)\n",
    "\n",
    "for col in [\"inscrits\",\"votants\",\"blancs\",\"nuls\",\"voix\"]:\n",
    "    df[col] = df[col].astype(\"int32\")\n"
   ]
  }
 ],
 "metadata": {
  "kernelspec": {
   "display_name": "base_data",
   "language": "python",
   "name": "base_data"
  },
  "language_info": {
   "codemirror_mode": {
    "name": "ipython",
    "version": 3
   },
   "file_extension": ".py",
   "mimetype": "text/x-python",
   "name": "python",
   "nbconvert_exporter": "python",
   "pygments_lexer": "ipython3",
   "version": "3.10.4"
  }
 },
 "nbformat": 4,
 "nbformat_minor": 5
}
